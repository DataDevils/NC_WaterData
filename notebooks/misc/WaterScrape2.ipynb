{
 "cells": [
  {
   "cell_type": "code",
   "execution_count": 1,
   "metadata": {},
   "outputs": [],
   "source": [
    "import urllib\n",
    "from bs4 import BeautifulSoup as bs"
   ]
  },
  {
   "cell_type": "code",
   "execution_count": 2,
   "metadata": {},
   "outputs": [],
   "source": [
    "theURL = 'https://www.ncwater.org/Water_Supply_Planning/Local_Water_Supply_Plan/report.php?pwsid=03-32-010'"
   ]
  },
  {
   "cell_type": "code",
   "execution_count": 3,
   "metadata": {},
   "outputs": [],
   "source": [
    "with urllib.request.urlopen(theURL) as response:\n",
    "   html = response.read()"
   ]
  },
  {
   "cell_type": "code",
   "execution_count": 4,
   "metadata": {},
   "outputs": [],
   "source": [
    "soup = bs(html,'html5lib')"
   ]
  },
  {
   "cell_type": "code",
   "execution_count": 5,
   "metadata": {},
   "outputs": [],
   "source": [
    "import pandas as pd"
   ]
  },
  {
   "cell_type": "code",
   "execution_count": 6,
   "metadata": {},
   "outputs": [
    {
     "name": "stdout",
     "output_type": "stream",
     "text": [
      "20172016201520142013\n",
      "Water System Name:\n",
      "Line Type\n",
      "What are the estimat\n",
      "Does this system hav\n",
      "What type of rate st\n",
      "Sub-Basin(s)% of Ser\n",
      "Sub-Basin(s)\n",
      "County(s)\n",
      "What was the year-ro\n",
      "Type of Use\n",
      "Purchaser\n",
      "nan\n",
      "Stream\n",
      "Stream\n",
      "What is this system'\n",
      "Seller\n",
      "Plant Name\n",
      "Did average daily wa\n",
      "nan\n",
      "How many sewer conne\n",
      "Permit Number\n",
      "Water System\n",
      "nan\n",
      "Source Name\n",
      "nan\n"
     ]
    }
   ],
   "source": [
    "dfs = pd.read_html(html)\n",
    "for df in dfs:\n",
    "    val = df.iloc[0,0]\n",
    "    print(str(val)[:20])"
   ]
  },
  {
   "cell_type": "code",
   "execution_count": 10,
   "metadata": {},
   "outputs": [
    {
     "name": "stdout",
     "output_type": "stream",
     "text": [
      "Expiration\n"
     ]
    }
   ],
   "source": [
    "dfs = pd.read_html(html)\n",
    "\n",
    "tableName = \"Purchaser\"\n",
    "\n",
    "for df in dfs:\n",
    "    val = str(df.iloc[0,0])\n",
    "    if tableName == val:\n",
    "        df.rename(columns=df.iloc[0],inplace=True)\n",
    "        df.drop(df.index[0],inplace=True)\n",
    "        df = df.set_index(tableName)\n",
    "        gotIt = True\n",
    "        break\n",
    "        \n",
    "if not gotIt:\n",
    "    print (\"{} not found\".format(tableName))\n",
    "else:\n",
    "    print(df.iloc[0,0])"
   ]
  },
  {
   "cell_type": "code",
   "execution_count": 9,
   "metadata": {},
   "outputs": [
    {
     "data": {
      "text/html": [
       "<div>\n",
       "<style scoped>\n",
       "    .dataframe tbody tr th:only-of-type {\n",
       "        vertical-align: middle;\n",
       "    }\n",
       "\n",
       "    .dataframe tbody tr th {\n",
       "        vertical-align: top;\n",
       "    }\n",
       "\n",
       "    .dataframe thead th {\n",
       "        text-align: right;\n",
       "    }\n",
       "</style>\n",
       "<table border=\"1\" class=\"dataframe\">\n",
       "  <thead>\n",
       "    <tr style=\"text-align: right;\">\n",
       "      <th></th>\n",
       "      <th>PWSID</th>\n",
       "      <th>AverageDaily Sold(MGD)</th>\n",
       "      <th>DaysUsed</th>\n",
       "      <th>Contract</th>\n",
       "      <th>Required tocomply with water use restrictions?</th>\n",
       "      <th>Pipe Size(s)(Inches)</th>\n",
       "      <th>UseType</th>\n",
       "      <th>nan</th>\n",
       "      <th>nan</th>\n",
       "    </tr>\n",
       "    <tr>\n",
       "      <th>Purchaser</th>\n",
       "      <th></th>\n",
       "      <th></th>\n",
       "      <th></th>\n",
       "      <th></th>\n",
       "      <th></th>\n",
       "      <th></th>\n",
       "      <th></th>\n",
       "      <th></th>\n",
       "      <th></th>\n",
       "    </tr>\n",
       "  </thead>\n",
       "  <tbody>\n",
       "    <tr>\n",
       "      <th>MGD</th>\n",
       "      <td>Expiration</td>\n",
       "      <td>Recurring</td>\n",
       "      <td>NaN</td>\n",
       "      <td>NaN</td>\n",
       "      <td>NaN</td>\n",
       "      <td>NaN</td>\n",
       "      <td>NaN</td>\n",
       "      <td>NaN</td>\n",
       "      <td>NaN</td>\n",
       "    </tr>\n",
       "    <tr>\n",
       "      <th>Cary</th>\n",
       "      <td>03-92-020</td>\n",
       "      <td>1.910</td>\n",
       "      <td>15</td>\n",
       "      <td>NaN</td>\n",
       "      <td>2028</td>\n",
       "      <td>No</td>\n",
       "      <td>Yes</td>\n",
       "      <td>16.0</td>\n",
       "      <td>Emergency</td>\n",
       "    </tr>\n",
       "    <tr>\n",
       "      <th>Chatham Co</th>\n",
       "      <td>03-19-126</td>\n",
       "      <td>0.179</td>\n",
       "      <td>365</td>\n",
       "      <td>4.000</td>\n",
       "      <td>2028</td>\n",
       "      <td>No</td>\n",
       "      <td>Yes</td>\n",
       "      <td>16.0</td>\n",
       "      <td>Regular</td>\n",
       "    </tr>\n",
       "    <tr>\n",
       "      <th>City of Raleigh</th>\n",
       "      <td>03-92-010</td>\n",
       "      <td>0.000</td>\n",
       "      <td>0</td>\n",
       "      <td>1.300</td>\n",
       "      <td>2026</td>\n",
       "      <td>No</td>\n",
       "      <td>No</td>\n",
       "      <td>16.0</td>\n",
       "      <td>Emergency</td>\n",
       "    </tr>\n",
       "    <tr>\n",
       "      <th>Hillsborough</th>\n",
       "      <td>03-68-015</td>\n",
       "      <td>0.000</td>\n",
       "      <td>0</td>\n",
       "      <td>NaN</td>\n",
       "      <td>2008</td>\n",
       "      <td>Yes</td>\n",
       "      <td>Yes</td>\n",
       "      <td>16.0</td>\n",
       "      <td>Emergency</td>\n",
       "    </tr>\n",
       "    <tr>\n",
       "      <th>Orange-Alamance</th>\n",
       "      <td>03-68-020</td>\n",
       "      <td>0.000</td>\n",
       "      <td>0</td>\n",
       "      <td>NaN</td>\n",
       "      <td>NaN</td>\n",
       "      <td>No</td>\n",
       "      <td>Yes</td>\n",
       "      <td>NaN</td>\n",
       "      <td>Emergency</td>\n",
       "    </tr>\n",
       "    <tr>\n",
       "      <th>OWASA</th>\n",
       "      <td>03-68-010</td>\n",
       "      <td>4.132</td>\n",
       "      <td>3</td>\n",
       "      <td>NaN</td>\n",
       "      <td>2029</td>\n",
       "      <td>No</td>\n",
       "      <td>Yes</td>\n",
       "      <td>12.0</td>\n",
       "      <td>Emergency</td>\n",
       "    </tr>\n",
       "  </tbody>\n",
       "</table>\n",
       "</div>"
      ],
      "text/plain": [
       "                      PWSID AverageDaily Sold(MGD) DaysUsed Contract  \\\n",
       "Purchaser                                                              \n",
       "MGD              Expiration              Recurring      NaN      NaN   \n",
       "Cary              03-92-020                  1.910       15      NaN   \n",
       "Chatham Co        03-19-126                  0.179      365    4.000   \n",
       "City of Raleigh   03-92-010                  0.000        0    1.300   \n",
       "Hillsborough      03-68-015                  0.000        0      NaN   \n",
       "Orange-Alamance   03-68-020                  0.000        0      NaN   \n",
       "OWASA             03-68-010                  4.132        3      NaN   \n",
       "\n",
       "                Required tocomply with water use restrictions?  \\\n",
       "Purchaser                                                        \n",
       "MGD                                                        NaN   \n",
       "Cary                                                      2028   \n",
       "Chatham Co                                                2028   \n",
       "City of Raleigh                                           2026   \n",
       "Hillsborough                                              2008   \n",
       "Orange-Alamance                                            NaN   \n",
       "OWASA                                                     2029   \n",
       "\n",
       "                Pipe Size(s)(Inches) UseType   NaN        NaN  \n",
       "Purchaser                                                      \n",
       "MGD                              NaN     NaN   NaN        NaN  \n",
       "Cary                              No     Yes  16.0  Emergency  \n",
       "Chatham Co                        No     Yes  16.0    Regular  \n",
       "City of Raleigh                   No      No  16.0  Emergency  \n",
       "Hillsborough                     Yes     Yes  16.0  Emergency  \n",
       "Orange-Alamance                   No     Yes   NaN  Emergency  \n",
       "OWASA                             No     Yes  12.0  Emergency  "
      ]
     },
     "execution_count": 9,
     "metadata": {},
     "output_type": "execute_result"
    }
   ],
   "source": [
    "df"
   ]
  }
 ],
 "metadata": {
  "kernelspec": {
   "display_name": "Python 3",
   "language": "python",
   "name": "python3"
  },
  "language_info": {
   "codemirror_mode": {
    "name": "ipython",
    "version": 3
   },
   "file_extension": ".py",
   "mimetype": "text/x-python",
   "name": "python",
   "nbconvert_exporter": "python",
   "pygments_lexer": "ipython3",
   "version": "3.5.4"
  }
 },
 "nbformat": 4,
 "nbformat_minor": 2
}

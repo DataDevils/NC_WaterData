{
 "cells": [
  {
   "cell_type": "markdown",
   "metadata": {},
   "source": [
    "## Get address details\n",
    "Sometimes when you Google search a shop or whatever, the search results include information about the location including its address. This notebook uses that search API, the Google NearbySearch API, to extract coordinates for a location, if available. \n",
    "\n",
    "Catches: the entity has to be within 50 km of a provided center point AND has to be a searchable Google entity"
   ]
  },
  {
   "cell_type": "code",
   "execution_count": 1,
   "metadata": {},
   "outputs": [],
   "source": [
    "#Imports\n",
    "import requests"
   ]
  },
  {
   "cell_type": "markdown",
   "metadata": {},
   "source": [
    "## Functions"
   ]
  },
  {
   "cell_type": "code",
   "execution_count": 2,
   "metadata": {},
   "outputs": [],
   "source": [
    "#Function to get the google key required to use the API\n",
    "def getKey():\n",
    "    with open('Keys.txt','r') as file: key = file.readlines()[2]\n",
    "    return key"
   ]
  },
  {
   "cell_type": "code",
   "execution_count": 3,
   "metadata": {},
   "outputs": [],
   "source": [
    "#Function to get the location (address and lng/lat pair) from the name\n",
    "def getLocation(name,key,center='34.627222, -79.011944'):\n",
    "    #Construct the URL\n",
    "    searchURL = 'https://maps.googleapis.com/maps/api/place/nearbysearch/json?'\n",
    "    payload = {'key':key,\n",
    "               'location':center,\n",
    "               'radius':'50000',\n",
    "               'name':name\n",
    "              }\n",
    "\n",
    "    #Send the request\n",
    "    r = requests.get(searchURL,payload)\n",
    "    r_json = r.json()\n",
    "    \n",
    "    #Check the results; exit if nothing is returned\n",
    "    if r_json['status'] == 'ZERO_RESULTS':\n",
    "        return ()\n",
    "\n",
    "    #Get the coordinates\n",
    "    lng,lat = r_json['results'][0]['geometry']['location'].values()\n",
    "\n",
    "    #Get the address\n",
    "    address = r_json['results'][0]['vicinity']\n",
    "    \n",
    "    #Return the objects\n",
    "    return (address,lng,lat)"
   ]
  },
  {
   "cell_type": "markdown",
   "metadata": {},
   "source": [
    "### Main program"
   ]
  },
  {
   "cell_type": "code",
   "execution_count": 4,
   "metadata": {},
   "outputs": [],
   "source": [
    "#Set the name\n",
    "name = 'Biggs Park Mall'\n",
    "key = getKey()"
   ]
  },
  {
   "cell_type": "code",
   "execution_count": 5,
   "metadata": {},
   "outputs": [
    {
     "name": "stdout",
     "output_type": "stream",
     "text": [
      "('2800 N Elm St, Lumberton', 34.6374018, -79.0061228)\n"
     ]
    }
   ],
   "source": [
    "out = getLocation(name,key)\n",
    "print(out)"
   ]
  }
 ],
 "metadata": {
  "kernelspec": {
   "display_name": "Python 3",
   "language": "python",
   "name": "python3"
  },
  "language_info": {
   "codemirror_mode": {
    "name": "ipython",
    "version": 3
   },
   "file_extension": ".py",
   "mimetype": "text/x-python",
   "name": "python",
   "nbconvert_exporter": "python",
   "pygments_lexer": "ipython3",
   "version": "3.5.4"
  }
 },
 "nbformat": 4,
 "nbformat_minor": 2
}

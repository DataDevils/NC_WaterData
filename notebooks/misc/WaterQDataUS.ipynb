{
 "cells": [
  {
   "cell_type": "markdown",
   "metadata": {},
   "source": [
    "## Data from Water Quality Data US\n",
    "https://www.waterqualitydata.us/Result/search?statecode=US%3A37&countycode=US%3A37%3A063&mimeType=tsv&sorted=no"
   ]
  },
  {
   "cell_type": "code",
   "execution_count": 2,
   "metadata": {},
   "outputs": [],
   "source": [
    "#Imports\n",
    "import pandas as pd"
   ]
  },
  {
   "cell_type": "code",
   "execution_count": 3,
   "metadata": {},
   "outputs": [],
   "source": [
    "#Data\n",
    "dataFN = '../Data/WaterQualityDataUS/DurhamNC.tsv'"
   ]
  },
  {
   "cell_type": "code",
   "execution_count": 9,
   "metadata": {},
   "outputs": [],
   "source": [
    "#Import\n",
    "df = pd.read_csv(dataFN,sep='\\t',low_memory=False)"
   ]
  },
  {
   "cell_type": "code",
   "execution_count": 15,
   "metadata": {},
   "outputs": [
    {
     "data": {
      "text/plain": [
       "Index(['OrganizationIdentifier', 'OrganizationFormalName',\n",
       "       'ActivityIdentifier', 'ActivityTypeCode', 'ActivityMediaName',\n",
       "       'ActivityMediaSubdivisionName', 'ActivityStartDate',\n",
       "       'ActivityStartTime/Time', 'ActivityStartTime/TimeZoneCode',\n",
       "       'ActivityEndDate', 'ActivityEndTime/Time',\n",
       "       'ActivityEndTime/TimeZoneCode',\n",
       "       'ActivityDepthHeightMeasure/MeasureValue',\n",
       "       'ActivityDepthHeightMeasure/MeasureUnitCode',\n",
       "       'ActivityDepthAltitudeReferencePointText',\n",
       "       'ActivityTopDepthHeightMeasure/MeasureValue',\n",
       "       'ActivityTopDepthHeightMeasure/MeasureUnitCode',\n",
       "       'ActivityBottomDepthHeightMeasure/MeasureValue',\n",
       "       'ActivityBottomDepthHeightMeasure/MeasureUnitCode', 'ProjectIdentifier',\n",
       "       'ActivityConductingOrganizationText', 'MonitoringLocationIdentifier',\n",
       "       'ActivityCommentText', 'SampleAquifer', 'HydrologicCondition',\n",
       "       'HydrologicEvent', 'SampleCollectionMethod/MethodIdentifier',\n",
       "       'SampleCollectionMethod/MethodIdentifierContext',\n",
       "       'SampleCollectionMethod/MethodName', 'SampleCollectionEquipmentName',\n",
       "       'ResultDetectionConditionText', 'CharacteristicName',\n",
       "       'ResultSampleFractionText', 'ResultMeasureValue',\n",
       "       'ResultMeasure/MeasureUnitCode', 'MeasureQualifierCode',\n",
       "       'ResultStatusIdentifier', 'StatisticalBaseCode', 'ResultValueTypeName',\n",
       "       'ResultWeightBasisText', 'ResultTimeBasisText',\n",
       "       'ResultTemperatureBasisText', 'ResultParticleSizeBasisText',\n",
       "       'PrecisionValue', 'ResultCommentText', 'USGSPCode',\n",
       "       'ResultDepthHeightMeasure/MeasureValue',\n",
       "       'ResultDepthHeightMeasure/MeasureUnitCode',\n",
       "       'ResultDepthAltitudeReferencePointText', 'SubjectTaxonomicName',\n",
       "       'SampleTissueAnatomyName', 'ResultAnalyticalMethod/MethodIdentifier',\n",
       "       'ResultAnalyticalMethod/MethodIdentifierContext',\n",
       "       'ResultAnalyticalMethod/MethodName', 'MethodDescriptionText',\n",
       "       'LaboratoryName', 'AnalysisStartDate', 'ResultLaboratoryCommentText',\n",
       "       'DetectionQuantitationLimitTypeName',\n",
       "       'DetectionQuantitationLimitMeasure/MeasureValue',\n",
       "       'DetectionQuantitationLimitMeasure/MeasureUnitCode',\n",
       "       'PreparationStartDate', 'ProviderName'],\n",
       "      dtype='object')"
      ]
     },
     "execution_count": 15,
     "metadata": {},
     "output_type": "execute_result"
    }
   ],
   "source": [
    "df.columns"
   ]
  },
  {
   "cell_type": "code",
   "execution_count": null,
   "metadata": {},
   "outputs": [],
   "source": []
  },
  {
   "cell_type": "code",
   "execution_count": 27,
   "metadata": {},
   "outputs": [],
   "source": [
    "dfStoret = df[df['ProviderName'] == 'STORET']"
   ]
  },
  {
   "cell_type": "code",
   "execution_count": 28,
   "metadata": {},
   "outputs": [
    {
     "data": {
      "text/plain": [
       "array(['21NCMONITORING-UCFRBA2011-000004741',\n",
       "       '21NCMONITORING-UCFRBA2011-000004724', '21NC03WQ-AMS2011-001941636',\n",
       "       ..., '21NCMONITORING-UCFRBA2005-000104793',\n",
       "       '21NC03WQ-NCLAKESMON20771-2005H', '21NC03WQ-NCLAKESMON21380-2005H'], dtype=object)"
      ]
     },
     "execution_count": 28,
     "metadata": {},
     "output_type": "execute_result"
    }
   ],
   "source": [
    "dfStoret.ActivityIdentifier.unique()"
   ]
  }
 ],
 "metadata": {
  "kernelspec": {
   "display_name": "Python 3",
   "language": "python",
   "name": "python3"
  },
  "language_info": {
   "codemirror_mode": {
    "name": "ipython",
    "version": 3
   },
   "file_extension": ".py",
   "mimetype": "text/x-python",
   "name": "python",
   "nbconvert_exporter": "python",
   "pygments_lexer": "ipython3",
   "version": "3.5.4"
  }
 },
 "nbformat": 4,
 "nbformat_minor": 2
}

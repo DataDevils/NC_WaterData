{
 "cells": [
  {
   "cell_type": "markdown",
   "metadata": {},
   "source": [
    "# Scraping data\n",
    "url = https://www.ncwater.org/Water_Supply_Planning/Local_Water_Supply_Plan/report.php?pwsid=03-32-010&year=2016\n",
    "* Open in Firefox and hit `ctrl-i`\n",
    "* In the Developer Tools window, activate the `Inspector` tab. \n",
    "* Examine the raw HTML code for the portion you want"
   ]
  },
  {
   "cell_type": "markdown",
   "metadata": {},
   "source": [
    "Tables to scrape\n",
    "1. System Information\n",
    " * Contact info\n",
    " * Distribution System\n",
    " * Programs\n",
    " * Water Conservation\n",
    "1. Water Use Information\n",
    " * Service area\n",
    " * Water use by type\n",
    " * \n"
   ]
  },
  {
   "cell_type": "code",
   "execution_count": 40,
   "metadata": {},
   "outputs": [],
   "source": [
    "import requests\n",
    "from bs4 import BeautifulSoup as bs\n",
    "import io\n",
    "import pandas as pd\n",
    "import re"
   ]
  },
  {
   "cell_type": "code",
   "execution_count": 2,
   "metadata": {},
   "outputs": [],
   "source": [
    "#Create request\n",
    "baseURL = 'https://www.ncwater.org/Water_Supply_Planning/Local_Water_Supply_Plan/report.php'\n",
    "params = {'pwsid':'03-320010',\n",
    "          'year':'2016'\n",
    "         }"
   ]
  },
  {
   "cell_type": "code",
   "execution_count": 4,
   "metadata": {},
   "outputs": [],
   "source": [
    "#Retrieve the web page content\n",
    "html = requests.get(baseURL,params).content"
   ]
  },
  {
   "cell_type": "code",
   "execution_count": 5,
   "metadata": {},
   "outputs": [],
   "source": [
    "#Convert to a \"beautiful soup\" object\n",
    "soup = bs(html, \"html5lib\")"
   ]
  },
  {
   "cell_type": "code",
   "execution_count": 49,
   "metadata": {},
   "outputs": [],
   "source": [
    "waterUse = soup.find_all(\"h2\")[1]"
   ]
  },
  {
   "cell_type": "code",
   "execution_count": 18,
   "metadata": {},
   "outputs": [],
   "source": [
    "#Get the table object containing all the data\n",
    "divContent = soup.find('div',id=\"content\")\n",
    "tdMain = divContent.find('td')"
   ]
  },
  {
   "cell_type": "code",
   "execution_count": 27,
   "metadata": {},
   "outputs": [],
   "source": [
    "#Find the location of the \"use-by-type\" object\n",
    "useType = soup.find_all(\"a\",attrs={'name':\"use-by-type\"})[0]"
   ]
  },
  {
   "cell_type": "code",
   "execution_count": 28,
   "metadata": {},
   "outputs": [],
   "source": [
    "#Get the 'grand-parent' of the tag and find it's next sibling\n",
    "dataTable = useType.parent.parent.findNextSibling()"
   ]
  },
  {
   "cell_type": "code",
   "execution_count": 21,
   "metadata": {},
   "outputs": [
    {
     "data": {
      "text/plain": [
       "<table cellspacing=\"1\" class=\"fancy-table\">\n",
       "\t<tbody><tr>\n",
       "\t\t<th>Type of Use</th>\n",
       "\t\t<th>Metered<br/>Connections</th>\n",
       "\t\t<th>Metered<br/>Average Use (MGD)</th>\n",
       "\t\t<th>Non-Metered<br/>Connections</th>\n",
       "\t\t<th>Non-Metered<br/>Estimated Use (MGD)</th>\n",
       "\t</tr>\n",
       "\t<tr>\n",
       "\t\t<td class=\"left\">Residential</td>\n",
       "\t\t<td>0</td>\n",
       "\t\t<td>0.0000</td>\n",
       "\t\t<td>0</td>\n",
       "\t\t<td>0.0000</td>\n",
       "\t</tr>\n",
       "\t<tr>\n",
       "\t\t<td class=\"left\">Commercial</td>\n",
       "\t\t<td>0</td>\n",
       "\t\t<td>0.0000</td>\n",
       "\t\t<td>0</td>\n",
       "\t\t<td>0.0000</td>\n",
       "\t</tr>\n",
       "\t<tr>\n",
       "\t\t<td class=\"left\">Industrial</td>\n",
       "\t\t<td>0</td>\n",
       "\t\t<td>0.0000</td>\n",
       "\t\t<td>0</td>\n",
       "\t\t<td>0.0000</td>\n",
       "\t</tr>\n",
       "\t<tr>\n",
       "\t\t<td class=\"left\">Institutional</td>\n",
       "\t\t<td>0</td>\n",
       "\t\t<td>0.0000</td>\n",
       "\t\t<td>0</td>\n",
       "\t\t<td>0.0000</td>\n",
       "\t</tr>\n",
       "\t</tbody></table>"
      ]
     },
     "execution_count": 21,
     "metadata": {},
     "output_type": "execute_result"
    }
   ],
   "source": [
    "#Show it's contents, to check\n",
    "dataTable"
   ]
  },
  {
   "cell_type": "code",
   "execution_count": 9,
   "metadata": {},
   "outputs": [],
   "source": [
    "#Code to extract data into a dictionary \n",
    "rows=dataTable.find_all('tr')\n",
    "\n",
    "#Create a list of header items \n",
    "keyList = []\n",
    "dataDict = {}\n",
    "\n",
    "#Convert columns inthe first row to headers\n",
    "for col in rows[0].find_all('th'):\n",
    "    colText = col.get_text()\n",
    "    keyList.append(colText)\n",
    "    dataDict[colText] = []\n",
    "\n",
    "\n",
    "#Data rows -> Add to dictionaries\n",
    "for row in rows[1:]:\n",
    "    #Get a collection of columns\n",
    "    cols = row.find_all('td')\n",
    "    #for i,col in enumerate(cols):\n",
    "    i=0\n",
    "    valList = []\n",
    "    for col in cols:\n",
    "        #Get the value at the current row/column\n",
    "        colValue = col.get_text()\n",
    "        #Get the key from the key list\n",
    "        key = keyList[i]; i=i+1\n",
    "        #Get the current values\n",
    "        valList = dataDict[key]\n",
    "        #Add the value to the value list\n",
    "        valList.append(colValue)\n",
    "        #Update the dictionary's value list\n",
    "        dataDict[key] = valList"
   ]
  },
  {
   "cell_type": "code",
   "execution_count": 10,
   "metadata": {},
   "outputs": [
    {
     "data": {
      "text/html": [
       "<div>\n",
       "<style scoped>\n",
       "    .dataframe tbody tr th:only-of-type {\n",
       "        vertical-align: middle;\n",
       "    }\n",
       "\n",
       "    .dataframe tbody tr th {\n",
       "        vertical-align: top;\n",
       "    }\n",
       "\n",
       "    .dataframe thead th {\n",
       "        text-align: right;\n",
       "    }\n",
       "</style>\n",
       "<table border=\"1\" class=\"dataframe\">\n",
       "  <thead>\n",
       "    <tr style=\"text-align: right;\">\n",
       "      <th></th>\n",
       "      <th>MeteredAverage Use (MGD)</th>\n",
       "      <th>MeteredConnections</th>\n",
       "      <th>Non-MeteredConnections</th>\n",
       "      <th>Non-MeteredEstimated Use (MGD)</th>\n",
       "    </tr>\n",
       "    <tr>\n",
       "      <th>Type of Use</th>\n",
       "      <th></th>\n",
       "      <th></th>\n",
       "      <th></th>\n",
       "      <th></th>\n",
       "    </tr>\n",
       "  </thead>\n",
       "  <tbody>\n",
       "    <tr>\n",
       "      <th>Residential</th>\n",
       "      <td>12.680</td>\n",
       "      <td>85,294</td>\n",
       "      <td>0</td>\n",
       "      <td>0.000</td>\n",
       "    </tr>\n",
       "    <tr>\n",
       "      <th>Commercial</th>\n",
       "      <td>5.860</td>\n",
       "      <td>5,825</td>\n",
       "      <td>0</td>\n",
       "      <td>0.000</td>\n",
       "    </tr>\n",
       "    <tr>\n",
       "      <th>Industrial</th>\n",
       "      <td>1.100</td>\n",
       "      <td>132</td>\n",
       "      <td>0</td>\n",
       "      <td>0.000</td>\n",
       "    </tr>\n",
       "    <tr>\n",
       "      <th>Institutional</th>\n",
       "      <td>2.610</td>\n",
       "      <td>1,355</td>\n",
       "      <td>0</td>\n",
       "      <td>0.000</td>\n",
       "    </tr>\n",
       "  </tbody>\n",
       "</table>\n",
       "</div>"
      ],
      "text/plain": [
       "              MeteredAverage Use (MGD) MeteredConnections  \\\n",
       "Type of Use                                                 \n",
       "Residential                     12.680             85,294   \n",
       "Commercial                       5.860              5,825   \n",
       "Industrial                       1.100                132   \n",
       "Institutional                    2.610              1,355   \n",
       "\n",
       "              Non-MeteredConnections Non-MeteredEstimated Use (MGD)  \n",
       "Type of Use                                                          \n",
       "Residential                        0                          0.000  \n",
       "Commercial                         0                          0.000  \n",
       "Industrial                         0                          0.000  \n",
       "Institutional                      0                          0.000  "
      ]
     },
     "execution_count": 10,
     "metadata": {},
     "output_type": "execute_result"
    }
   ],
   "source": [
    "#Convert the dictionary to a data frame\n",
    "df = pd.DataFrame(dataDict)\n",
    "df.set_index(\"Type of Use\")"
   ]
  }
 ],
 "metadata": {
  "kernelspec": {
   "display_name": "Python 3",
   "language": "python",
   "name": "python3"
  },
  "language_info": {
   "codemirror_mode": {
    "name": "ipython",
    "version": 3
   },
   "file_extension": ".py",
   "mimetype": "text/x-python",
   "name": "python",
   "nbconvert_exporter": "python",
   "pygments_lexer": "ipython3",
   "version": "3.5.4"
  }
 },
 "nbformat": 4,
 "nbformat_minor": 2
}

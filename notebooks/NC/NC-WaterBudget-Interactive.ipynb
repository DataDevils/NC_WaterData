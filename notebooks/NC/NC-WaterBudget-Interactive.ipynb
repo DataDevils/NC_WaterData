{
 "cells": [
  {
   "cell_type": "markdown",
   "metadata": {},
   "source": [
    "## NC Water Budget Explorer\n",
    "Using NC Water Withdrawal/Discharge/Transfer data [(link)](https://www.ncwater.org/Permits_and_Registration/Water_Withdrawal_and_Transfer_Registration/), this notebook explores water budgets at the watershed scale with the underlying objectives of revealing what we can show with this data and identify data gaps that would prove helpful"
   ]
  },
  {
   "cell_type": "code",
   "execution_count": 1,
   "metadata": {},
   "outputs": [],
   "source": [
    "#Imports\n",
    "import os\n",
    "import pandas as pd\n",
    "\n",
    "from ipywidgets import widgets, Layout, interact\n",
    "import ipywidgets as widgets"
   ]
  },
  {
   "cell_type": "code",
   "execution_count": 2,
   "metadata": {},
   "outputs": [
    {
     "name": "stdout",
     "output_type": "stream",
     "text": [
      " 109824 records loaded\n"
     ]
    }
   ],
   "source": [
    "#Get data\n",
    "dataFolder='..\\\\..\\\\Data\\\\NC_WaterWithdrawal'\n",
    "volumeFN = os.path.join(dataFolder,'MonthlyVolumeData.csv')\n",
    "dfVol = pd.read_csv(volumeFN)\n",
    "print(\" {} records loaded\".format(len(dfVol)))\n",
    "\n",
    "#Add MGD columns for withdrawal, discharge, and transfer\n",
    "dfVol['withdrawal_MGD'] = dfVol['# of DaysUsed'] * dfVol['Average DailyWithdrawal (MGD)']\n",
    "dfVol['discharge_MGD'] = dfVol['# of DaysDischarged'] * dfVol['Average DailyDischarge (MGD)']\n",
    "dfVol['transfer_MGD'] = dfVol['# of DaysTransferred'] * dfVol['Average DailyTransfer (MGD)']"
   ]
  },
  {
   "cell_type": "code",
   "execution_count": 3,
   "metadata": {},
   "outputs": [
    {
     "data": {
      "text/plain": [
       "Index(['SiteID', 'Year', 'Registrant', 'Facility', 'Type', 'County',\n",
       "       'Subbasin', 'Month', '# of DaysUsed', 'Average DailyWithdrawal (MGD)',\n",
       "       'Maximum DayWithdrawal (MGD)', '# of DaysDischarged',\n",
       "       'Average DailyDischarge (MGD)', 'Maximum DayDischarge (MGD)',\n",
       "       '# of DaysTransferred', 'Average DailyTransfer (MGD)',\n",
       "       'Maximum DayTransfer (MGD)', 'withdrawal_MGD', 'discharge_MGD',\n",
       "       'transfer_MGD'],\n",
       "      dtype='object')"
      ]
     },
     "execution_count": 3,
     "metadata": {},
     "output_type": "execute_result"
    }
   ],
   "source": [
    "dfVol.columns"
   ]
  },
  {
   "cell_type": "code",
   "execution_count": 4,
   "metadata": {},
   "outputs": [],
   "source": [
    "#Function to sort on month\n",
    "def sortMonth(df):\n",
    "    months = [\"Jan\", \"Feb\", \"Mar\", \"Apr\", \"May\", \"Jun\", \"Jul\", \"Aug\", \"Sep\", \"Oct\", \"Nov\", \"Dec\"]\n",
    "    df.index = pd.CategoricalIndex(df.index,categories=months,sorted=True)\n",
    "    df.sort_index(inplace=True)\n",
    "    return df"
   ]
  },
  {
   "cell_type": "code",
   "execution_count": 5,
   "metadata": {},
   "outputs": [],
   "source": [
    "#Group the data by year/month\n",
    "grp = dfVol.groupby(['Year','Month'])\n",
    "dfW = grp['withdrawal_MGD'].sum()\n",
    "dfD = grp['discharge_MGD'].sum()"
   ]
  },
  {
   "cell_type": "code",
   "execution_count": 6,
   "metadata": {},
   "outputs": [],
   "source": [
    "#Function for plotting monthly discharge for selected year\n",
    "def plot_month(x):\n",
    "    grp = dfVol.groupby(['Year','Month'])\n",
    "    df = grp['Average DailyWithdrawal (MGD)','Average DailyDischarge (MGD)'].mean().xs(x)\n",
    "    df = sortMonth(df)\n",
    "    df.plot(kind='bar',\n",
    "            subplots=False,\n",
    "            figsize=(20,4),\n",
    "            title=\"Avg daily withdrawal & discharge (MGD) for {}\".format(x));\n",
    "    "
   ]
  },
  {
   "cell_type": "code",
   "execution_count": 7,
   "metadata": {},
   "outputs": [
    {
     "data": {
      "application/vnd.jupyter.widget-view+json": {
       "model_id": "8e814ac191ca4a0f98ad4919e30741e4",
       "version_major": 2,
       "version_minor": 0
      },
      "text/plain": [
       "interactive(children=(IntSlider(value=2010, description='Year', max=2017, min=2010), Output()), _dom_classes=(…"
      ]
     },
     "metadata": {},
     "output_type": "display_data"
    }
   ],
   "source": [
    "#Plot avg MGD by selected Month\n",
    "interact(plot_month,x=widgets.IntSlider(min=2010,max=2017,step=1,description='Year'));"
   ]
  },
  {
   "cell_type": "code",
   "execution_count": 8,
   "metadata": {},
   "outputs": [],
   "source": [
    "#Function for plotting monthly discharge for selected year\n",
    "def plot_basin(x):\n",
    "    grp = dfVol.groupby(['Subbasin','Year'])\n",
    "    df = grp['withdrawal_MGD', 'discharge_MGD'].sum().xs(x)\n",
    "    df.plot(kind='line',\n",
    "            subplots=False,\n",
    "            figsize=(20,4),\n",
    "            title=\"Total annual withdrawal (MG)\");"
   ]
  },
  {
   "cell_type": "code",
   "execution_count": 9,
   "metadata": {},
   "outputs": [
    {
     "data": {
      "application/vnd.jupyter.widget-view+json": {
       "model_id": "1c2b408d5ff8448b947b9ae876e08ffc",
       "version_major": 2,
       "version_minor": 0
      },
      "text/plain": [
       "interactive(children=(Dropdown(description='Subbasin', options=('Deep River (02-2)', 'Lumber River (09-1)', 'H…"
      ]
     },
     "metadata": {},
     "output_type": "display_data"
    }
   ],
   "source": [
    "# Interact by basin\n",
    "basinList = dfVol.Subbasin.unique().tolist()\n",
    "w = widgets.Dropdown(options=basinList)\n",
    "#\n",
    "interact(plot_basin,x=widgets.Dropdown(options=basinList,description='Subbasin'));"
   ]
  }
 ],
 "metadata": {
  "kernelspec": {
   "display_name": "Python 3",
   "language": "python",
   "name": "python3"
  },
  "language_info": {
   "codemirror_mode": {
    "name": "ipython",
    "version": 3
   },
   "file_extension": ".py",
   "mimetype": "text/x-python",
   "name": "python",
   "nbconvert_exporter": "python",
   "pygments_lexer": "ipython3",
   "version": "3.5.4"
  }
 },
 "nbformat": 4,
 "nbformat_minor": 2
}

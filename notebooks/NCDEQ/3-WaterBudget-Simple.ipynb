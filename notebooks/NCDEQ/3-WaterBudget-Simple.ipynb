{
 "cells": [
  {
   "cell_type": "markdown",
   "metadata": {},
   "source": [
    "## NC Water Budget Explorer - Simple\n",
    "Using NC Water Withdrawal/Discharge/Transfer data [(link)](https://www.ncwater.org/Permits_and_Registration/Water_Withdrawal_and_Transfer_Registration/), this notebook explores water budgets at the watershed scale with the underlying objectives of revealing what we can show with this data and identify data gaps that would prove helpful. \n",
    "\n",
    "A map of the subbasins is found here: http://www.ncwater.org/Permits_and_Registration/Water_Withdrawal_and_Transfer_Registration/docs/river_basin_map.pdf"
   ]
  },
  {
   "cell_type": "code",
   "execution_count": 1,
   "metadata": {},
   "outputs": [],
   "source": [
    "#Imports\n",
    "import os\n",
    "import pandas as pd\n",
    "%matplotlib inline"
   ]
  },
  {
   "cell_type": "code",
   "execution_count": 2,
   "metadata": {},
   "outputs": [
    {
     "name": "stdout",
     "output_type": "stream",
     "text": [
      " 110208 records loaded\n"
     ]
    }
   ],
   "source": [
    "#Get data\n",
    "dataFolder='..\\\\..\\\\Data\\\\NCDEQ'\n",
    "volumeFN = os.path.join(dataFolder,'MonthlyVolumeData.csv')\n",
    "dfVol = pd.read_csv(volumeFN)\n",
    "print(\" {} records loaded\".format(len(dfVol)))"
   ]
  },
  {
   "cell_type": "code",
   "execution_count": 3,
   "metadata": {},
   "outputs": [],
   "source": [
    "#Add MGD columns for withdrawal, discharge, and transfer\n",
    "dfVol['withdrawal_MGD'] = dfVol['# of DaysUsed'] * dfVol['Average DailyWithdrawal (MGD)']\n",
    "dfVol['discharge_MGD'] = dfVol['# of DaysDischarged'] * dfVol['Average DailyDischarge (MGD)']\n",
    "dfVol['transfer_MGD'] = dfVol['# of DaysTransferred'] * dfVol['Average DailyTransfer (MGD)']"
   ]
  },
  {
   "cell_type": "code",
   "execution_count": 4,
   "metadata": {},
   "outputs": [
    {
     "name": "stdout",
     "output_type": "stream",
     "text": [
      " 3096 records selected\n"
     ]
    }
   ],
   "source": [
    "#Select data for a specific year (2017) and subbasin ('Neuse River (10-1)')\n",
    "year = 2017\n",
    "subbasin = 'Neuse River (10-1)'\n",
    "\n",
    "yearMask = dfVol['Year'] == year\n",
    "subbasinMask = dfVol['Subbasin'] == subbasin\n",
    "dfSubset = dfVol[yearMask & subbasinMask]\n",
    "print(\" {} records selected\".format(len(dfSubset)))"
   ]
  },
  {
   "cell_type": "code",
   "execution_count": 5,
   "metadata": {},
   "outputs": [
    {
     "data": {
      "image/png": "[encoded data removed]",
      "text/plain": [
       "<matplotlib.figure.Figure at 0x12a142f7c50>"
      ]
     },
     "metadata": {},
     "output_type": "display_data"
    }
   ],
   "source": [
    "#Compute summaries by month\n",
    "months = [\"Jan\", \"Feb\", \"Mar\", \"Apr\", \"May\", \"Jun\", \"Jul\", \"Aug\", \"Sep\", \"Oct\", \"Nov\", \"Dec\"]\n",
    "dfPlot = dfSubset.groupby('Month')[['withdrawal_MGD','discharge_MGD']].sum()\n",
    "dfPlot.index = pd.CategoricalIndex(dfPlot.index,categories=months,sorted=True)\n",
    "dfPlot.sort_index(inplace=True)\n",
    "#Plot\n",
    "dfPlot.plot(kind='bar',figsize=(20,7));"
   ]
  },
  {
   "cell_type": "code",
   "execution_count": null,
   "metadata": {},
   "outputs": [],
   "source": []
  }
 ],
 "metadata": {
  "kernelspec": {
   "display_name": "Python 3",
   "language": "python",
   "name": "python3"
  },
  "language_info": {
   "codemirror_mode": {
    "name": "ipython",
    "version": 3
   },
   "file_extension": ".py",
   "mimetype": "text/x-python",
   "name": "python",
   "nbconvert_exporter": "python",
   "pygments_lexer": "ipython3",
   "version": "3.5.4"
  }
 },
 "nbformat": 4,
 "nbformat_minor": 2
}

{
 "cells": [
  {
   "cell_type": "markdown",
   "metadata": {},
   "source": [
    "## Safe Drinking Water Information System \n",
    "Query https://www3.epa.gov/enviro/facts/sdwis/search.html and scrape results"
   ]
  },
  {
   "cell_type": "code",
   "execution_count": 1,
   "metadata": {},
   "outputs": [],
   "source": [
    "import requests"
   ]
  },
  {
   "cell_type": "code",
   "execution_count": 2,
   "metadata": {},
   "outputs": [],
   "source": [
    "theURL = 'https://oaspub.epa.gov/enviro/sdw_query_v3.get_list?wsys_name=&fac_search=fac_beginning&fac_county=&fac_city=&pop_serv=500&pop_serv=3300&pop_serv=10000&pop_serv=100000&pop_serv=100001&sys_status=&pop_serv=&wsys_id=&fac_state=NC&last_fac_name=&page=1&query_results=&total_rows_found='"
   ]
  },
  {
   "cell_type": "code",
   "execution_count": 3,
   "metadata": {},
   "outputs": [],
   "source": [
    "parsedURL = (theURL\n",
    "             .replace(\"=\",\"':'\")\n",
    "             .replace(\"&\",\"',\\n         '\")\n",
    "             .replace(\"?\",\"'\\npayload={'\")+\"'}\")\n",
    "#print(\"newURL = '{}\".format(parsedURL))"
   ]
  },
  {
   "cell_type": "code",
   "execution_count": 4,
   "metadata": {},
   "outputs": [],
   "source": [
    "newURL = 'https://oaspub.epa.gov/enviro/sdw_query_v3.get_list'\n",
    "payload={'wsys_name':'',\n",
    "         'fac_search':'fac_beginning',\n",
    "         'fac_county':'',\n",
    "         'fac_city':'',\n",
    "         'pop_serv':'500',\n",
    "         'pop_serv':'3300',\n",
    "         'pop_serv':'10000',\n",
    "         'pop_serv':'100000',\n",
    "         'pop_serv':'100001',\n",
    "         'sys_status':'',\n",
    "         'pop_serv':'',\n",
    "         'wsys_id':'',\n",
    "         'fac_state':'NC',\n",
    "         'last_fac_name':'',\n",
    "         'page':'1',\n",
    "         'query_results':'',\n",
    "         'total_rows_found':''}"
   ]
  },
  {
   "cell_type": "code",
   "execution_count": 5,
   "metadata": {},
   "outputs": [],
   "source": [
    "r = requests.get(newURL,payload)"
   ]
  },
  {
   "cell_type": "code",
   "execution_count": 6,
   "metadata": {},
   "outputs": [
    {
     "data": {
      "text/plain": [
       "'https://oaspub.epa.gov/enviro/sdw_query_v3.get_list?wsys_name=&wsys_id=&last_fac_name=&pop_serv=&query_results=&fac_search=fac_beginning&fac_state=NC&page=1&fac_city=&total_rows_found=&sys_status=&fac_county='"
      ]
     },
     "execution_count": 6,
     "metadata": {},
     "output_type": "execute_result"
    }
   ],
   "source": [
    "r.url"
   ]
  },
  {
   "cell_type": "code",
   "execution_count": null,
   "metadata": {},
   "outputs": [],
   "source": []
  }
 ],
 "metadata": {
  "kernelspec": {
   "display_name": "Python 3",
   "language": "python",
   "name": "python3"
  },
  "language_info": {
   "codemirror_mode": {
    "name": "ipython",
    "version": 3
   },
   "file_extension": ".py",
   "mimetype": "text/x-python",
   "name": "python",
   "nbconvert_exporter": "python",
   "pygments_lexer": "ipython3",
   "version": "3.5.4"
  }
 },
 "nbformat": 4,
 "nbformat_minor": 2
}

{
 "cells": [
  {
   "cell_type": "markdown",
   "metadata": {},
   "source": [
    "# Explore EPA CCR Reports\n",
    "This notebook examines how data from the EPA's Consumer Confidence Reports can be viewed. The data are first downloaded from https://ofmpub.epa.gov/apex/safewater/f?p=136:103:::NO:RP,103:P103_STATE:NC (specific download link is: [https://ofmpub.epa.gov/apex/safewater/f?p=136:103::CSV::::](https://ofmpub.epa.gov/apex/safewater/f?p=136:103::CSV::::))\n",
    "\n",
    "The downloads appear to have plenty of missing data, suggesting that this is not a very reliable data source. "
   ]
  },
  {
   "cell_type": "code",
   "execution_count": null,
   "metadata": {},
   "outputs": [],
   "source": [
    "import pandas as pd\n",
    "from matplotlib import pyplot as plt"
   ]
  },
  {
   "cell_type": "code",
   "execution_count": null,
   "metadata": {},
   "outputs": [],
   "source": [
    "#Read the file\n",
    "df = pd.read_csv('../../Data/EPA_CCR/ccr_report.csv',thousands=',')\n",
    "df.head(3)"
   ]
  },
  {
   "cell_type": "code",
   "execution_count": null,
   "metadata": {},
   "outputs": [],
   "source": [
    "df.describe()"
   ]
  },
  {
   "cell_type": "code",
   "execution_count": null,
   "metadata": {},
   "outputs": [],
   "source": [
    "dfType = df.groupby(['Source Type','Counties Served'],as_index=False)['Population Served'].sum()\n",
    "dfType.head()"
   ]
  },
  {
   "cell_type": "code",
   "execution_count": null,
   "metadata": {},
   "outputs": [],
   "source": [
    "dfByCounty = dfType.pivot_table(columns='Source Type',index='Counties Served',values='Population Served')"
   ]
  },
  {
   "cell_type": "code",
   "execution_count": null,
   "metadata": {},
   "outputs": [],
   "source": [
    "dfByCounty[dfByCounty['Counties Served']=='Durham']\n"
   ]
  },
  {
   "cell_type": "code",
   "execution_count": null,
   "metadata": {},
   "outputs": [],
   "source": [
    "df[df['Cities Served'] == 'DURHAM']"
   ]
  }
 ],
 "metadata": {
  "kernelspec": {
   "display_name": "Python 3",
   "language": "python",
   "name": "python3"
  },
  "language_info": {
   "codemirror_mode": {
    "name": "ipython",
    "version": 3
   },
   "file_extension": ".py",
   "mimetype": "text/x-python",
   "name": "python",
   "nbconvert_exporter": "python",
   "pygments_lexer": "ipython3",
   "version": "3.5.4"
  }
 },
 "nbformat": 4,
 "nbformat_minor": 2
}

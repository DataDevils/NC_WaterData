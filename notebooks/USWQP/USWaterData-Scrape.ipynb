{
 "cells": [
  {
   "cell_type": "markdown",
   "metadata": {},
   "source": [
    "# US Water Quality Data Portal\n",
    "https://www.waterqualitydata.us/portal/"
   ]
  },
  {
   "cell_type": "code",
   "execution_count": 1,
   "metadata": {},
   "outputs": [],
   "source": [
    "#Imports\n",
    "import requests\n",
    "import pandas as pd\n",
    "import io"
   ]
  },
  {
   "cell_type": "markdown",
   "metadata": {},
   "source": [
    "## Get site data"
   ]
  },
  {
   "cell_type": "code",
   "execution_count": 2,
   "metadata": {},
   "outputs": [],
   "source": [
    "theURL = 'https://www.waterqualitydata.us/data/Station/search'\n",
    "payload = {'statecode':'US:37',      #North Carolina\n",
    "           'countycode':'US:37:063', #Durham County\n",
    "           'mimeType':'csv',\n",
    "           'zip':'no',\n",
    "           'sorted':'no'}"
   ]
  },
  {
   "cell_type": "code",
   "execution_count": 3,
   "metadata": {},
   "outputs": [],
   "source": [
    "#Send the request\n",
    "r = requests.get(theURL,payload)"
   ]
  },
  {
   "cell_type": "code",
   "execution_count": null,
   "metadata": {},
   "outputs": [],
   "source": [
    "r.url"
   ]
  },
  {
   "cell_type": "code",
   "execution_count": null,
   "metadata": {},
   "outputs": [],
   "source": [
    "#Convert to dataframe\n",
    "df = pd.read_csv(io.StringIO(r.content.decode('utf-8')))"
   ]
  },
  {
   "cell_type": "code",
   "execution_count": null,
   "metadata": {},
   "outputs": [],
   "source": [
    "#Display the first record\n",
    "df.iloc[0]"
   ]
  },
  {
   "cell_type": "code",
   "execution_count": null,
   "metadata": {},
   "outputs": [],
   "source": [
    "#Save as a local file\n",
    "df.to_csv(\"../../Data/USWQP/DurhamSites.csv\",index=False)"
   ]
  },
  {
   "cell_type": "markdown",
   "metadata": {},
   "source": [
    "## Get All Data"
   ]
  },
  {
   "cell_type": "code",
   "execution_count": 4,
   "metadata": {},
   "outputs": [],
   "source": [
    "def saveData(searchURL,saveName,statecode='37',countycode='063'):\n",
    "    payload = {'statecode':'US:{}'.format(statecode),\n",
    "               'countycode':'US:{}:{}'.format(statecode,countycode),\n",
    "               'mimeType':'csv',\n",
    "               'zip':'no',\n",
    "               'sorted':'no'}\n",
    "    r = requests.get(searchURL,payload)\n",
    "    df = pd.read_csv(io.StringIO(r.content.decode('utf-8')),low_memory=False)\n",
    "    df.to_csv(\"../../Data/USWQP/{}\".format(saveName),index=False)"
   ]
  },
  {
   "cell_type": "code",
   "execution_count": 5,
   "metadata": {},
   "outputs": [],
   "source": [
    "sitesURL = 'https://www.waterqualitydata.us/data/Station/search'\n",
    "resultsURL = 'https://www.waterqualitydata.us/data/Result/search'\n",
    "samplingURL = 'https://www.waterqualitydata.us/data/Activity/search'\n",
    "activityURL = 'https://www.waterqualitydata.us/data/ActivityMetric/search'\n"
   ]
  },
  {
   "cell_type": "code",
   "execution_count": null,
   "metadata": {},
   "outputs": [],
   "source": [
    "#saveData(sitesURL,\"DurhamSites.csv\")"
   ]
  },
  {
   "cell_type": "code",
   "execution_count": null,
   "metadata": {},
   "outputs": [],
   "source": [
    "saveData(resultsURL,\"DurhamResults.csv\")"
   ]
  },
  {
   "cell_type": "code",
   "execution_count": null,
   "metadata": {},
   "outputs": [],
   "source": [
    "saveData(samplingURL,\"DurhamSamples.csv\")"
   ]
  },
  {
   "cell_type": "code",
   "execution_count": 6,
   "metadata": {},
   "outputs": [],
   "source": [
    "saveData(activityURL,\"DurhamActivity.csv\")"
   ]
  },
  {
   "cell_type": "code",
   "execution_count": null,
   "metadata": {},
   "outputs": [],
   "source": []
  }
 ],
 "metadata": {
  "kernelspec": {
   "display_name": "Python 3",
   "language": "python",
   "name": "python3"
  },
  "language_info": {
   "codemirror_mode": {
    "name": "ipython",
    "version": 3
   },
   "file_extension": ".py",
   "mimetype": "text/x-python",
   "name": "python",
   "nbconvert_exporter": "python",
   "pygments_lexer": "ipython3",
   "version": "3.5.4"
  }
 },
 "nbformat": 4,
 "nbformat_minor": 2
}
